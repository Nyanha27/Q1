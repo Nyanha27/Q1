{
 "cells": [
  {
   "cell_type": "code",
   "execution_count": 8,
   "id": "4ed233f6-3862-461f-8023-a40727332fa6",
   "metadata": {},
   "outputs": [],
   "source": [
    "# Evolution function\n",
    "\n",
    "def evolve(pop, target, retain = 0.2, random_select = 0.05, mutate = 0.01):\n",
    "    \n",
    "    # your answer here...\n",
    "    graded = [(fitness(x, target), x) for x in pop]\n",
    "    graded = [x[1] for x in sorted(graded)]   # x[1] bcuz x has 2 components, juz take the list --> e.g.: [(50, [41, 38, 86, 30, 55])]\n",
    "    retain_length = int(len(graded) * retain) # how many top % parents to be remained.\n",
    "    parents = graded[0 : retain_length]       # get the list of array of individuals as parents - after sorted\n",
    "    \n",
    "    #randomly add other individuals to promote genetic diversity\n",
    "    for individual in graded[retain_length:]:  # get from the remaining individuals NOT selected as parents initially!\n",
    "        if random_select > random.random():\n",
    "            parents.append(individual)\n",
    "            \n",
    "    # mutate some individuals\n",
    "    for individual in parents:\n",
    "        if mutate > random.random():\n",
    "            pos_to_mutate = randint(0, len(individual) - 1)\n",
    "            # this mutation is not ideal, bcz it\n",
    "            # restricts the range of possible values,\n",
    "            # but the function is unware of the min / max\n",
    "            # values used to create the individuals,\n",
    "            individual[pos_to_mutate] = randint(min(individual), max(individual))\n",
    "            \n",
    "    # crossover parents to create children\n",
    "    parents_length = len(parents)\n",
    "    desired_length = len(pop) - parents_length # assuming that u need to make sure u hv enough\n",
    "    children = []\n",
    "    while len(children) < desired_length:\n",
    "        male = randint(0, parents_length - 1)\n",
    "        female = randint(0, parents_length - 1)\n",
    "        if male != female:\n",
    "            male = parents[male]\n",
    "            female = parents[female]\n",
    "            half = int(len(male) / 2)\n",
    "            child = male[:half] + female[half:]\n",
    "            children.append(child)\n",
    "            \n",
    "    parents.extend(children)\n",
    "    return parents"
   ]
  },
  {
   "cell_type": "markdown",
   "id": "7970c1b4-7f8c-4cad-b3c3-c9501b7377fb",
   "metadata": {},
   "source": [
    "Mutation"
   ]
  },
  {
   "cell_type": "code",
   "execution_count": 9,
   "id": "88d3baf7-4cdd-4765-9e35-135b08665e55",
   "metadata": {},
   "outputs": [],
   "source": [
    "from random import randint\n",
    "import random\n",
    "import math"
   ]
  },
  {
   "cell_type": "code",
   "execution_count": 10,
   "id": "7d569824-41be-411d-b986-d890280897be",
   "metadata": {},
   "outputs": [],
   "source": [
    "def individual(length):\n",
    "    ind = [0,0,0,0,0,0]\n",
    "    for index,r in enumerate(range(length)):\n",
    "      \n",
    "        if(index == 0 or index == 2 or index == 4):\n",
    "\n",
    "            ind[index] = (randint(100,1000))\n",
    "           \n",
    "        elif (index ==3):\n",
    "            ind[index] = randint(10,100)\n",
    "        elif(index == 1):\n",
    "            ind[index] = (randint(2,11))\n",
    "        elif(index == 5):\n",
    "            ind[index] = (randint(1,11))\n",
    "    return ind\n"
   ]
  },
  {
   "cell_type": "code",
   "execution_count": 11,
   "id": "1a9e33bd-670e-400a-92ee-b49bbe8d4208",
   "metadata": {},
   "outputs": [],
   "source": [
    "def population (count,length):\n",
    "    return [individual(length) for x in range(count)]"
   ]
  },
  {
   "cell_type": "code",
   "execution_count": 12,
   "id": "75367d00-111c-492e-a195-571802cca839",
   "metadata": {},
   "outputs": [],
   "source": [
    "def fitness(individual,target,day):#for individual\n",
    "    \n",
    "    total = (individual[0] * day) + (individual[1] * individual[2]) + (individual[3]) + (individual[4] * individual[5])\n",
    "\n",
    "    return abs(target - total)"
   ]
  },
  {
   "cell_type": "code",
   "execution_count": 13,
   "id": "5c8da3cd-174a-4afa-9820-fc00c711df11",
   "metadata": {},
   "outputs": [],
   "source": [
    "# Evolution function\n",
    "\n",
    "def evolve(pop, target,day, retain = 0.2, random_select = 0.05, mutate = 0.01):\n",
    "    graded = [(fitness(x,target,day),x) for x in pop] #list ,grding the population fitness\n",
    "    graded = [x[1] for x in sorted(graded)]#sorted according to the fitness score\n",
    "    #print(\"graded\",graded)\n",
    "    retain_length = int(len(graded)*retain)#what is the cut off point? this case is 0.2 which is 20 percent\n",
    "    parents = graded[0:retain_length]\n",
    "    \n",
    "    #randomly add other individuals \n",
    "    for individual in graded[retain_length:]:\n",
    "        if random_select > random.random():\n",
    "            parents.append(individual)\n",
    "            \n",
    "    #mutate some individuals\n",
    "    for individual in parents:\n",
    "        if mutate > random.random():\n",
    "            pos_to_mutate = randint(0,len(individual) - 1)\n",
    "            #this mutation is not ideal,because it\n",
    "            #restricts the range of possible values,\n",
    "            #but the function is unaware of the min/max\n",
    "            #values used to create the individuals,\n",
    "            individual[pos_to_mutate] = randint(min(individual),max(individual))\n",
    "            \n",
    "    #crossover parents to create children\n",
    "    parents_length = len(parents)\n",
    "    desired_length = len(pop) - parents_length # assuming that you need to make sure have\n",
    "    children = []\n",
    "    while len(children) < desired_length:\n",
    "        male = randint(0,parents_length - 1)\n",
    "        female = randint(0,parents_length -1 )\n",
    "        if male != female:\n",
    "            male = parents[male]\n",
    "            female = parents[female]\n",
    "            half = int(len(male) /2)\n",
    "            child = male[:half] + female[half:]\n",
    "            children.append(child)\n",
    "    \n",
    "    parents.extend(children)\n",
    "    return parents"
   ]
  },
  {
   "cell_type": "code",
   "execution_count": 14,
   "id": "8fb0f1a9-708d-4530-95e0-ffcd4d1b916f",
   "metadata": {},
   "outputs": [
    {
     "name": "stdin",
     "output_type": "stream",
     "text": [
      "How many money do you have?  2000\n",
      "What is your vacation duration?  5\n"
     ]
    },
    {
     "name": "stdout",
     "output_type": "stream",
     "text": [
      "\n",
      "Money on-hand : RM2000\n",
      "Vacation duration : 5 days\n",
      "Hotel Star Rating : <RM249 per night\n",
      "Tourist spots : 5 spot\n",
      "One tourist spot : <RM 223\n",
      "Food price : <RM13 per meal\n",
      "Transportation fees : <RM151 per trip\n",
      "Transport frequency : 9 trip per day\n"
     ]
    }
   ],
   "source": [
    "value_lst =[]\n",
    "\n",
    "money_on_hand = int(input(\"How many money do you have? \"))\n",
    "while money_on_hand < 0:\n",
    "    money_on_hand = input(\"How many money do you have? \")\n",
    "\n",
    "duration = int(input(\"What is your vacation duration? \"))\n",
    "while duration < 0:\n",
    "    duration = input(\"What is your vacation duration? \")\n",
    "\n",
    "\n",
    "p_count = 100\n",
    "i_length = 6\n",
    "\n",
    "\n",
    "p = population(p_count, i_length)\n",
    "\n",
    "\n",
    "p = evolve(p,money_on_hand,duration)\n",
    "   # value = grade(p,8000)\n",
    "   # fitness_history.append(value)\n",
    "value_lst.append(p[0])\n",
    "   # value_lst.append(value)\n",
    "    \n",
    "\n",
    "# print(\"value_list\",value_lst)\n",
    "# print(value_lst[0])\n",
    "print(\"\"\"\n",
    "Money on-hand : RM{}\n",
    "Vacation duration : {} days\n",
    "Hotel Star Rating : <RM{} per night\n",
    "Tourist spots : {} spot\n",
    "One tourist spot : <RM {}\n",
    "Food price : <RM{} per meal\n",
    "Transportation fees : <RM{} per trip\n",
    "Transport frequency : {} trip per day\"\"\".format(money_on_hand,duration,value_lst[0][0]\n",
    "                                               ,value_lst[0][1],\n",
    "                                                 value_lst[0][2],\n",
    "                                                  value_lst[0][3],\n",
    "                                                   value_lst[0][4],\n",
    "                                                   value_lst[0][5]))"
   ]
  },
  {
   "cell_type": "code",
   "execution_count": 15,
   "id": "0f6a0b7c-f646-45c8-bed6-fe90f01aaa81",
   "metadata": {},
   "outputs": [],
   "source": [
    "import csv\n",
    "\n",
    "header = ['Money on-hand','Vacation duration','Hotel Star Rating','Tourist spots','One tourist spot','Food price','Transportation fees','Transport frequency']\n",
    "data = [money_on_hand, duration, value_lst[0][0], value_lst[0][1], value_lst[0][2],value_lst[0][3], value_lst[0][4],value_lst[0][5]]\n",
    "\n",
    "\n",
    "with open('Vacation.csv', 'w', encoding='UTF8', newline='') as f:\n",
    "    writer = csv.writer(f)\n",
    "\n",
    "    # write the header\n",
    "    writer.writerow(header)\n",
    "\n",
    "    # write the data\n",
    "    writer.writerow(data)"
   ]
  },
  {
   "cell_type": "code",
   "execution_count": null,
   "id": "fce612bf-08d0-4f30-ad87-17a3d5cfb80e",
   "metadata": {},
   "outputs": [],
   "source": []
  }
 ],
 "metadata": {
  "kernelspec": {
   "display_name": "Python 3 (ipykernel)",
   "language": "python",
   "name": "python3"
  },
  "language_info": {
   "codemirror_mode": {
    "name": "ipython",
    "version": 3
   },
   "file_extension": ".py",
   "mimetype": "text/x-python",
   "name": "python",
   "nbconvert_exporter": "python",
   "pygments_lexer": "ipython3",
   "version": "3.9.7"
  }
 },
 "nbformat": 4,
 "nbformat_minor": 5
}
